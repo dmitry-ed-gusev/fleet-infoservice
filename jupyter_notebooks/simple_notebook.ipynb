{
 "cells": [
  {
   "cell_type": "code",
   "execution_count": 1,
   "id": "3d766707-c055-4244-b3df-3ea75782c7b1",
   "metadata": {},
   "outputs": [],
   "source": [
    "import pandas as pd\n",
    "import numpy as np"
   ]
  },
  {
   "cell_type": "code",
   "execution_count": 4,
   "id": "0b3930b0-6e4f-44a1-bffc-d2aae92ea2d5",
   "metadata": {},
   "outputs": [],
   "source": [
    "morflot = pd.read_excel('fleet_scraper/engine/cache/01-Jun-2021_23-33-50-scraper_rivregru/Registrovaya-kniga3.xlsx')"
   ]
  },
  {
   "cell_type": "code",
   "execution_count": 7,
   "id": "fd240ee6-61fa-4895-a973-a44af9b0e621",
   "metadata": {},
   "outputs": [
    {
     "name": "stdout",
     "output_type": "stream",
     "text": [
      "   Регистровый номер Наименование Строительный номер Проект судна  \\\n",
      "0                416       А-4023                NaN          411   \n",
      "1                702  Плавдок-444                444         1778   \n",
      "2                742         ЖБ-2                  2          б/п   \n",
      "3                783         Луга              02117         1779   \n",
      "4                796       ПК-175                NaN          б/п   \n",
      "\n",
      "                                    Тип и назначение Дата постройки  \\\n",
      "0             Несамоходная сухогрузная трюмная баржа     01.07.1958   \n",
      "1           Н/с автономный 2-х башенный плавучий док     01.01.1977   \n",
      "2  Плавучий объект, 2-х секционный плавдок для по...     01.07.1930   \n",
      "3                                       Плавучий док     01.07.1975   \n",
      "4                              Несамоходный плавкран     01.07.1941   \n",
      "\n",
      "  Место постройки Формула класса  Длина габаритная  Длина конструктивная  ...  \\\n",
      "0       Хабаpовск        М-ПР2,5              40.8                  39.1  ...   \n",
      "1        Клайпеда       Р 1,2 II             116.4                 100.0  ...   \n",
      "2       Ленинград        Р1,2 II              90.0                  90.0  ...   \n",
      "3       Ленинград        Р1,2 II             116.0                  92.8  ...   \n",
      "4      Нидерланды           Р1,2              50.4                  50.0  ...   \n",
      "\n",
      "   Марка главного ДВС  Мощность главного ДВС (кВт)  Кол-во главных ДВС  \\\n",
      "0                 NaN                          0.0                   0   \n",
      "1            6ЧН18/22                          0.0                   0   \n",
      "2                 NaN                          0.0                   0   \n",
      "3           6ЧН 25/34                        301.0                   3   \n",
      "4            6Ч 25/34                        220.0                   2   \n",
      "\n",
      "   Суммарная мощность ДВС  ГЭД, всего  ГЭД, кВт всех  ГЭС, кВт всех  \\\n",
      "0                     0.0           0              0            0.0   \n",
      "1                   495.0           0              0          450.0   \n",
      "2                     0.0           0              0            0.0   \n",
      "3                   900.0           0              0          960.0   \n",
      "4                   440.0           0              0          437.0   \n",
      "\n",
      "   Запас топлива  Водяной балласт  Условия плавания  \n",
      "0            0.0              0.0               NaN  \n",
      "1          106.0              0.0               NaN  \n",
      "2            0.0           4140.0               NaN  \n",
      "3          168.0              0.0               NaN  \n",
      "4            2.0              0.0               NaN  \n",
      "\n",
      "[5 rows x 42 columns]\n"
     ]
    }
   ],
   "source": [
    "print(morflot.head())"
   ]
  },
  {
   "cell_type": "code",
   "execution_count": 8,
   "id": "90bb53c7-1e5d-46cc-b0ee-8e14e3c39970",
   "metadata": {},
   "outputs": [
    {
     "name": "stdout",
     "output_type": "stream",
     "text": [
      "<class 'pandas.core.frame.DataFrame'>\n",
      "RangeIndex: 23704 entries, 0 to 23703\n",
      "Data columns (total 42 columns):\n",
      " #   Column                       Non-Null Count  Dtype  \n",
      "---  ------                       --------------  -----  \n",
      " 0   Регистровый номер            23704 non-null  int64  \n",
      " 1   Наименование                 23704 non-null  object \n",
      " 2   Строительный номер           16873 non-null  object \n",
      " 3   Проект судна                 23704 non-null  object \n",
      " 4   Тип и назначение             23704 non-null  object \n",
      " 5   Дата постройки               23704 non-null  object \n",
      " 6   Место постройки              23052 non-null  object \n",
      " 7   Формула класса               23704 non-null  object \n",
      " 8   Длина габаритная             23704 non-null  float64\n",
      " 9   Длина конструктивная         23704 non-null  float64\n",
      " 10  Ширина габаритная            23704 non-null  float64\n",
      " 11  Ширина конструктивная        23704 non-null  float64\n",
      " 12  Надводный борт               23704 non-null  float64\n",
      " 13  Высота борта                 23704 non-null  float64\n",
      " 14  Валовая вместимость          23704 non-null  float64\n",
      " 15  Чистая вместимость           23704 non-null  float64\n",
      " 16  Дедвейт                      23704 non-null  float64\n",
      " 17  Водоизмещение                23704 non-null  float64\n",
      " 18  Грузоподъемность             23704 non-null  float64\n",
      " 19  Переборок поперечных         23704 non-null  int64  \n",
      " 20  Переборок продольных         23704 non-null  int64  \n",
      " 21  Пассажировместимость         23704 non-null  int64  \n",
      " 22  Экипаж                       23704 non-null  int64  \n",
      " 23  Организованная группа        23704 non-null  int64  \n",
      " 24  Наливных танков              23704 non-null  int64  \n",
      " 25  Суммарный объем танков       23704 non-null  float64\n",
      " 26  Г/п 1-ой стрелы              23704 non-null  float64\n",
      " 27  Г/п 2-ой стрелы              23704 non-null  float64\n",
      " 28  Г/п 3-ой стрелы              23704 non-null  float64\n",
      " 29  Материал корпуса             22991 non-null  object \n",
      " 30  Материал насдстроек          12348 non-null  object \n",
      " 31  Тип главного ДВС             16105 non-null  object \n",
      " 32  Марка главного ДВС           16109 non-null  object \n",
      " 33  Мощность главного ДВС (кВт)  23704 non-null  float64\n",
      " 34  Кол-во главных ДВС           23704 non-null  int64  \n",
      " 35  Суммарная мощность ДВС       23704 non-null  float64\n",
      " 36  ГЭД, всего                   23704 non-null  int64  \n",
      " 37  ГЭД, кВт всех                23704 non-null  int64  \n",
      " 38  ГЭС, кВт всех                23704 non-null  float64\n",
      " 39  Запас топлива                23704 non-null  float64\n",
      " 40  Водяной балласт              23704 non-null  float64\n",
      " 41  Условия плавания             0 non-null      float64\n",
      "dtypes: float64(21), int64(10), object(11)\n",
      "memory usage: 7.6+ MB\n"
     ]
    }
   ],
   "source": [
    "morflot.info()"
   ]
  },
  {
   "cell_type": "code",
   "execution_count": null,
   "id": "f42733e6-871a-46ed-9007-fbc5ff0f36bb",
   "metadata": {},
   "outputs": [],
   "source": []
  }
 ],
 "metadata": {
  "kernelspec": {
   "display_name": "Python 3",
   "language": "python",
   "name": "python3"
  },
  "language_info": {
   "codemirror_mode": {
    "name": "ipython",
    "version": 3
   },
   "file_extension": ".py",
   "mimetype": "text/x-python",
   "name": "python",
   "nbconvert_exporter": "python",
   "pygments_lexer": "ipython3",
   "version": "3.8.5"
  }
 },
 "nbformat": 4,
 "nbformat_minor": 5
}
