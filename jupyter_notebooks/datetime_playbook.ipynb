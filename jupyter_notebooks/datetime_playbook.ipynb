{
 "cells": [
  {
   "cell_type": "code",
   "execution_count": 4,
   "id": "f42733e6-871a-46ed-9007-fbc5ff0f36bb",
   "metadata": {},
   "outputs": [],
   "source": [
    "# - change names of directories in scraper cache like:\n",
    "# -   DD-MMM-YYYY_... => YYYY-MMM-DD\n",
    "\n",
    "import os\n",
    "import re\n",
    "import shutil\n",
    "from pathlib import Path\n",
    "\n",
    "# - get scraper raw files (cache)\n",
    "path: str = os.getcwd() + '/../.wfleet/.scraper_raw_files/'\n",
    "dir_content: list = os.listdir(path)\n",
    "\n",
    "# - match dirs in cache with regex\n",
    "# - regex: exact start of the string -> 2 digits (minus) 3 letters (minus) 4 digits\n",
    "# - sample match: 01-Jun-2021...\n",
    "dir_regex = re.compile(r'^(\\d{2}-\\w{3}-\\d{4})') \n",
    "\n",
    "for item in dir_content:  # iterate over directory content\n",
    "    match_object = dir_regex.search(item)  # search by regex and return match object or None\n",
    "    \n",
    "    if Path(path + item).is_dir() and match_object:  # process - if directory\n",
    "        group: str = match_object.group()  # found group by regex\n",
    "        new_group: str = group[-4:] + group[2:7] + group[:2]  # update group name (exchange year and date)\n",
    "        new_item: str = new_group + item[11:]  # new directory name (updated)\n",
    "        print(group, \"===>\", match_object.groups(), '===>', \n",
    "              new_group, \"===>\", new_item)  # actual matched group/groups (if any)\n",
    "        print(\"dir -> \", item, \"\\n\")\n",
    "        \n",
    "        shutil.move(path + item, path + new_item)  # rename directory\n"
   ]
  },
  {
   "cell_type": "code",
   "execution_count": 4,
   "id": "277fbc9b",
   "metadata": {
    "scrolled": true
   },
   "outputs": [
    {
     "name": "stdout",
     "output_type": "stream",
     "text": [
      "1900-06-01 00:00:00\n",
      "06\n",
      "1900-Jun-01_00-00-00\n"
     ]
    }
   ],
   "source": [
    "import datetime\n",
    "\n",
    "month_name = \"Jun\"\n",
    "datetime_object = datetime.datetime.strptime(month_name, \"%b\")\n",
    "print(datetime_object)\n",
    "month_number = datetime_object.strftime(\"%m\")\n",
    "print(month_number)\n",
    "the_full_date = datetime_object.strftime(\"%Y-%m-%d_%H-%M-%S\")\n",
    "print(the_full_date)"
   ]
  },
  {
   "cell_type": "code",
   "execution_count": 15,
   "id": "ec7b8108",
   "metadata": {},
   "outputs": [
    {
     "name": "stdout",
     "output_type": "stream",
     "text": [
      "Apr\n",
      "April\n"
     ]
    }
   ],
   "source": [
    "import datetime\n",
    "\n",
    "month_number = \"04\"\n",
    "datetime_object = datetime.datetime.strptime(month_number, \"%m\")\n",
    "month_name = datetime_object.strftime(\"%b\")\n",
    "print(month_name)\n",
    "\n",
    "full_month_name = datetime_object.strftime(\"%B\")\n",
    "print(full_month_name)\n"
   ]
  },
  {
   "cell_type": "code",
   "execution_count": 23,
   "id": "06f18157",
   "metadata": {
    "scrolled": true
   },
   "outputs": [
    {
     "name": "stdout",
     "output_type": "stream",
     "text": [
      "work dir: /Users/dmitriigusev/projects/fleet-infoservice/jupyter_notebooks/../.wfleet/.scraper_raw_files/\n",
      "\n"
     ]
    }
   ],
   "source": [
    "# - change names of directories in scraper cache like:\n",
    "# -   YYYY-MMM-DD_...(Jan/Feb) => YYYY-MM-DD_...(01/02)\n",
    "\n",
    "import os\n",
    "import re\n",
    "import shutil\n",
    "import datetime\n",
    "from pathlib import Path\n",
    "\n",
    "# - get scraper raw files (cache)\n",
    "path: str = os.getcwd() + '/../.wfleet/.scraper_raw_files/'\n",
    "print(\"work dir:\", path)\n",
    "print()\n",
    "\n",
    "dir_content: list = os.listdir(path)\n",
    "\n",
    "# - match dirs in cache with regex\n",
    "# - regex: exact start of the string -> 2 digits (minus) 3 letters (minus) 4 digits\n",
    "# - sample match: 01-Jun-2021...\n",
    "dir_regex = re.compile(r'^((\\d{4})-(\\w{3})-(\\d{2}))') \n",
    "\n",
    "for item in dir_content:  # iterate over directory content\n",
    "    match_object = dir_regex.search(item)  # search by regex and return match object or None\n",
    "    \n",
    "    if Path(path + item).is_dir() and match_object:  # process - if directory\n",
    "        group = match_object.group()  # found group by regex (the whole match)\n",
    "        groups = match_object.groups()  # found groups by regex (list of groups according to parentheses)\n",
    "        \n",
    "        # print(\"group type:\", type(group), \"groups type:\", type(groups))\n",
    "        \n",
    "        #new_group: str = group[-4:] + group[2:7] + group[:2]  # update group name (exchange year and date)\n",
    "        #new_item: str = new_group + item[11:]  # new directory name (updated)\n",
    "        #print(group, \"===>\", match_object.groups(), '===>', \n",
    "        #      new_group, \"===>\", new_item)  # actual matched group/groups (if any)\n",
    "\n",
    "        # - some debug output\n",
    "        print(match_object.group(), \"===>\", match_object.group(3), \"===>\", match_object.groups(), \n",
    "              '===>', match_object.groups()[2])\n",
    "        print(\"dir ->\", item)\n",
    "        # convert month from 3 letters to two digits: Mar -> 03\n",
    "        datetime_object = datetime.datetime.strptime(groups[2], \"%b\")\n",
    "        month_number = datetime_object.strftime(\"%m\")\n",
    "        # create new dir name\n",
    "        new_item = groups[1] + '-' + month_number + '-' + groups[3] + item[11:]\n",
    "        print(\"new dir ->\", new_item, '\\n')\n",
    "        \n",
    "        shutil.move(path + item, path + new_item)  # rename directory\n"
   ]
  },
  {
   "cell_type": "code",
   "execution_count": 23,
   "id": "29501e35",
   "metadata": {},
   "outputs": [
    {
     "name": "stdout",
     "output_type": "stream",
     "text": [
      "work dir: /Users/dmitriigusev/projects/fleet-infoservice/jupyter_notebooks/../.wfleet/.scraper_raw_files/\n",
      "\n",
      "invalid entry: .DS_Store -> is dir =  false\n",
      "invalid entry: 2021 -> is dir =  true\n",
      "invalid entry: 2021-AAA -> is dir =  true\n",
      "invalid entry: 2022-01-01_01-01-01-zzz.txt -> is dir =  false\n",
      "invalid entry: 2021-12-16_23-00-00 -> is dir =  true\n",
      "invalid entry: 2022-01-01_01-01-01-zzz-dryrun -> is dir =  true\n"
     ]
    }
   ],
   "source": [
    "# - check for invalid enries in the cache dir\n",
    "\n",
    "import os\n",
    "import re\n",
    "import shutil\n",
    "import datetime\n",
    "from pathlib import Path\n",
    "\n",
    "# - get scraper raw files (cache)\n",
    "path: str = os.getcwd() + '/../.wfleet/.scraper_raw_files/'\n",
    "print(\"work dir:\", path)\n",
    "print()\n",
    "\n",
    "dir_content: list = os.listdir(path)\n",
    "\n",
    "# - match dir names in cache\n",
    "# - regex: exact start of the string -> YYYY-MM-DD_HH-mm-SS-...\n",
    "dir_regex = re.compile(r'^(\\d{4}-\\d{2}-\\d{2}_\\d{2}-\\d{2}-\\d{2}-)')\n",
    "exception_list = [\"readme.txt\"]\n",
    "for item in dir_content:\n",
    "    match_object = dir_regex.search(item)\n",
    "    full_path: Path = Path(path + item)\n",
    "    \n",
    "    # find any \"garbage\" - no dirs and dirs with wrong names\n",
    "    if not full_path.is_dir() or not match_object or item.endswith(\"-dryrun\"):\n",
    "        \n",
    "        if item in exception_list:\n",
    "            continue\n",
    "            \n",
    "        print(\"invalid entry:\", item, \"->\", \"is dir = \", \"true\" if full_path.is_dir() else \"false\")\n",
    "\n"
   ]
  },
  {
   "cell_type": "code",
   "execution_count": 7,
   "id": "697095ae",
   "metadata": {},
   "outputs": [
    {
     "name": "stdout",
     "output_type": "stream",
     "text": [
      "Date and time is: 2022-07-24 21:23:15.400982\n",
      "Timestamp is: 1658690595.400982\n",
      "Timestamp is: 1658690595.401097\n",
      "222 Date and time is: 2022-07-24 21:23:17.402804\n",
      "222 Timestamp is: 1658690597.402804\n",
      "222 Timestamp is: 1658690597.4029472\n",
      "duration:  2\n"
     ]
    }
   ],
   "source": [
    "import time\n",
    "from datetime import datetime\n",
    "\n",
    "# Getting the current date and time\n",
    "dt1 = datetime.now()\n",
    "# getting the timestamp\n",
    "ts1 = datetime.timestamp(dt1)\n",
    "tss1 = time.time()\n",
    "\n",
    "print(\"Date and time is:\", dt1)\n",
    "print(\"Timestamp is:\", ts1)\n",
    "print(\"Timestamp is:\", tss1)\n",
    "\n",
    "time.sleep(2)\n",
    "\n",
    "dt2 = datetime.now()\n",
    "ts2 = datetime.timestamp(dt2)\n",
    "tss2 = time.time()\n",
    "print(\"222 Date and time is:\", dt2)\n",
    "print(\"222 Timestamp is:\", ts2)\n",
    "print(\"222 Timestamp is:\", tss2)\n",
    "\n",
    "print(\"duration: \", int(ts2 - ts1))\n"
   ]
  }
 ],
 "metadata": {
  "kernelspec": {
   "display_name": "fleet-infoservice-ipkernel",
   "language": "python",
   "name": "fleet-infoservice-ipkernel"
  },
  "language_info": {
   "codemirror_mode": {
    "name": "ipython",
    "version": 3
   },
   "file_extension": ".py",
   "mimetype": "text/x-python",
   "name": "python",
   "nbconvert_exporter": "python",
   "pygments_lexer": "ipython3",
   "version": "3.9.13"
  },
  "vscode": {
   "interpreter": {
    "hash": "04deb9acc749962e6288e459c36c016ae71502a7ddfedb5e533e935e7843f8f1"
   }
  }
 },
 "nbformat": 4,
 "nbformat_minor": 5
}
